{
 "cells": [
  {
   "cell_type": "markdown",
   "id": "b11db3aa",
   "metadata": {},
   "source": [
    "## 1. Configuración del Entorno y Conexión a la Base de Datos\n",
    "\n",
    "Para poder interactuar con la base de datos PostgreSQL desde nuestro notebook, primero debemos establecer una conexión. El siguiente código se encarga de configurar y centralizar el acceso a la base de datos utilizando **SQLAlchemy**.\n"
   ]
  },
  {
   "cell_type": "code",
   "execution_count": 2,
   "id": "6e453bd1",
   "metadata": {},
   "outputs": [
    {
     "name": "stdout",
     "output_type": "stream",
     "text": [
      "Motor db SQLAlchemy creado exitosamente para Docker\n"
     ]
    }
   ],
   "source": [
    "import os\n",
    "import pandas as pd \n",
    "from sqlalchemy import create_engine\n",
    "from dotenv import load_dotenv\n",
    "from sqlalchemy.orm import sessionmaker, declarative_base\n",
    "from sqlalchemy import create_engine\n",
    "\n",
    "load_dotenv()\n",
    "\n",
    "DB_HOST=os.getenv(\"DB_HOST\")\n",
    "DB_PORT=os.getenv(\"DB_PORT\")\n",
    "DB_NAME=os.getenv(\"DB_NAME\")\n",
    "DB_USER=os.getenv(\"DB_USER\")\n",
    "DB_PASSWORD=os.getenv(\"DB_PASSWORD\")\n",
    "\n",
    "DATABASE_URL = f\"postgresql+pg8000://{DB_USER}:{DB_PASSWORD}@{DB_HOST}:{DB_PORT}/{DB_NAME}\"\n",
    "\n",
    "try:\n",
    "    engine = create_engine(DATABASE_URL, echo=False, client_encoding='utf8')\n",
    "\n",
    "    print(\"Motor db SQLAlchemy creado exitosamente para Docker\")\n",
    "except Exception as e:\n",
    "    print(f\"Error al crear db: {e}\")\n",
    "    raise\n",
    "\n",
    "base = declarative_base()\n",
    "DBSession = sessionmaker(bind=engine)\n",
    "\n",
    "def get_db_engine():\n",
    "    return engine\n",
    "\n",
    "\n",
    "def get_db_session():\n",
    "    return DBSession\n",
    "\n",
    "\n",
    "def get_db_connection():\n",
    "    return engine.connect()"
   ]
  },
  {
   "cell_type": "markdown",
   "id": "bff788ce",
   "metadata": {},
   "source": [
    "### 2. Conteo General de Registros\n",
    "\n",
    "Como primer paso de la exploración, realizamos un conteo de registros para cada tabla. Esto nos da una perspectiva inicial del volumen de los datos y nos sirve como una verificación rápida para asegurar que todas las tablas se cargaron correctamente desde los archivos `.sql`."
   ]
  },
  {
   "cell_type": "code",
   "execution_count": 2,
   "id": "428e573e",
   "metadata": {},
   "outputs": [
    {
     "name": "stdout",
     "output_type": "stream",
     "text": [
      "📊 Conteo de registros por tabla:\n",
      "✔️ usuarios: 1000 registros\n",
      "✔️ categorias: 12 registros\n",
      "✔️ productos: 36 registros\n",
      "✔️ ordenes: 10000 registros\n",
      "✔️ detalleordenes: 10000 registros\n",
      "✔️ direccionesenvio: 1000 registros\n",
      "✔️ carrito: 5000 registros\n",
      "✔️ metodospago: 7 registros\n",
      "✔️ ordenesmetodospago: 10000 registros\n",
      "✔️ reseñasproductos: 10000 registros\n",
      "✔️ historialpagos: 10000 registros\n"
     ]
    }
   ],
   "source": [
    "tablas = [\n",
    "    \"usuarios\", \"categorias\", \"productos\", \"ordenes\", \"detalleordenes\",\n",
    "    \"direccionesenvio\", \"carrito\", \"metodospago\", \"ordenesmetodospago\",\n",
    "    \"reseñasproductos\", \"historialpagos\"\n",
    "]\n",
    "\n",
    "print(\"📊 Conteo de registros por tabla:\")\n",
    "with engine.connect() as conn:\n",
    "    for tabla in tablas:\n",
    "        total = pd.read_sql(f\"SELECT COUNT(*) AS total FROM {tabla}\", conn).iloc[0][\"total\"]\n",
    "        print(f\"✔️ {tabla}: {total} registros\")\n"
   ]
  },
  {
   "cell_type": "markdown",
   "id": "6d743774",
   "metadata": {},
   "source": [
    "### 3. Análisis de Integridad: Nulos en Claves Primarias (PK)\n",
    "\n",
    "\n",
    "A continuación, se define un proceso automatizado que itera sobre cada tabla principal y su respectiva clave primaria para verificar la existencia de nulos."
   ]
  },
  {
   "cell_type": "code",
   "execution_count": 7,
   "id": "c1663f9d",
   "metadata": {},
   "outputs": [
    {
     "name": "stdout",
     "output_type": "stream",
     "text": [
      "\n",
      "🔍 Nulos en PK de USUARIOS (usuarioid):\n"
     ]
    },
    {
     "data": {
      "text/html": [
       "<div>\n",
       "<style scoped>\n",
       "    .dataframe tbody tr th:only-of-type {\n",
       "        vertical-align: middle;\n",
       "    }\n",
       "\n",
       "    .dataframe tbody tr th {\n",
       "        vertical-align: top;\n",
       "    }\n",
       "\n",
       "    .dataframe thead th {\n",
       "        text-align: right;\n",
       "    }\n",
       "</style>\n",
       "<table border=\"1\" class=\"dataframe\">\n",
       "  <thead>\n",
       "    <tr style=\"text-align: right;\">\n",
       "      <th></th>\n",
       "      <th>null_count</th>\n",
       "    </tr>\n",
       "  </thead>\n",
       "  <tbody>\n",
       "    <tr>\n",
       "      <th>0</th>\n",
       "      <td>0</td>\n",
       "    </tr>\n",
       "  </tbody>\n",
       "</table>\n",
       "</div>"
      ],
      "text/plain": [
       "   null_count\n",
       "0           0"
      ]
     },
     "metadata": {},
     "output_type": "display_data"
    },
    {
     "name": "stdout",
     "output_type": "stream",
     "text": [
      "\n",
      "🔍 Nulos en PK de CATEGORIAS (categoriaid):\n"
     ]
    },
    {
     "data": {
      "text/html": [
       "<div>\n",
       "<style scoped>\n",
       "    .dataframe tbody tr th:only-of-type {\n",
       "        vertical-align: middle;\n",
       "    }\n",
       "\n",
       "    .dataframe tbody tr th {\n",
       "        vertical-align: top;\n",
       "    }\n",
       "\n",
       "    .dataframe thead th {\n",
       "        text-align: right;\n",
       "    }\n",
       "</style>\n",
       "<table border=\"1\" class=\"dataframe\">\n",
       "  <thead>\n",
       "    <tr style=\"text-align: right;\">\n",
       "      <th></th>\n",
       "      <th>null_count</th>\n",
       "    </tr>\n",
       "  </thead>\n",
       "  <tbody>\n",
       "    <tr>\n",
       "      <th>0</th>\n",
       "      <td>0</td>\n",
       "    </tr>\n",
       "  </tbody>\n",
       "</table>\n",
       "</div>"
      ],
      "text/plain": [
       "   null_count\n",
       "0           0"
      ]
     },
     "metadata": {},
     "output_type": "display_data"
    },
    {
     "name": "stdout",
     "output_type": "stream",
     "text": [
      "\n",
      "🔍 Nulos en PK de PRODUCTOS (productoid):\n"
     ]
    },
    {
     "data": {
      "text/html": [
       "<div>\n",
       "<style scoped>\n",
       "    .dataframe tbody tr th:only-of-type {\n",
       "        vertical-align: middle;\n",
       "    }\n",
       "\n",
       "    .dataframe tbody tr th {\n",
       "        vertical-align: top;\n",
       "    }\n",
       "\n",
       "    .dataframe thead th {\n",
       "        text-align: right;\n",
       "    }\n",
       "</style>\n",
       "<table border=\"1\" class=\"dataframe\">\n",
       "  <thead>\n",
       "    <tr style=\"text-align: right;\">\n",
       "      <th></th>\n",
       "      <th>null_count</th>\n",
       "    </tr>\n",
       "  </thead>\n",
       "  <tbody>\n",
       "    <tr>\n",
       "      <th>0</th>\n",
       "      <td>0</td>\n",
       "    </tr>\n",
       "  </tbody>\n",
       "</table>\n",
       "</div>"
      ],
      "text/plain": [
       "   null_count\n",
       "0           0"
      ]
     },
     "metadata": {},
     "output_type": "display_data"
    },
    {
     "name": "stdout",
     "output_type": "stream",
     "text": [
      "\n",
      "🔍 Nulos en PK de ORDENES (ordenid):\n"
     ]
    },
    {
     "data": {
      "text/html": [
       "<div>\n",
       "<style scoped>\n",
       "    .dataframe tbody tr th:only-of-type {\n",
       "        vertical-align: middle;\n",
       "    }\n",
       "\n",
       "    .dataframe tbody tr th {\n",
       "        vertical-align: top;\n",
       "    }\n",
       "\n",
       "    .dataframe thead th {\n",
       "        text-align: right;\n",
       "    }\n",
       "</style>\n",
       "<table border=\"1\" class=\"dataframe\">\n",
       "  <thead>\n",
       "    <tr style=\"text-align: right;\">\n",
       "      <th></th>\n",
       "      <th>null_count</th>\n",
       "    </tr>\n",
       "  </thead>\n",
       "  <tbody>\n",
       "    <tr>\n",
       "      <th>0</th>\n",
       "      <td>0</td>\n",
       "    </tr>\n",
       "  </tbody>\n",
       "</table>\n",
       "</div>"
      ],
      "text/plain": [
       "   null_count\n",
       "0           0"
      ]
     },
     "metadata": {},
     "output_type": "display_data"
    },
    {
     "name": "stdout",
     "output_type": "stream",
     "text": [
      "\n",
      "🔍 Nulos en PK de DETALLEORDENES (detalleid):\n"
     ]
    },
    {
     "data": {
      "text/html": [
       "<div>\n",
       "<style scoped>\n",
       "    .dataframe tbody tr th:only-of-type {\n",
       "        vertical-align: middle;\n",
       "    }\n",
       "\n",
       "    .dataframe tbody tr th {\n",
       "        vertical-align: top;\n",
       "    }\n",
       "\n",
       "    .dataframe thead th {\n",
       "        text-align: right;\n",
       "    }\n",
       "</style>\n",
       "<table border=\"1\" class=\"dataframe\">\n",
       "  <thead>\n",
       "    <tr style=\"text-align: right;\">\n",
       "      <th></th>\n",
       "      <th>null_count</th>\n",
       "    </tr>\n",
       "  </thead>\n",
       "  <tbody>\n",
       "    <tr>\n",
       "      <th>0</th>\n",
       "      <td>0</td>\n",
       "    </tr>\n",
       "  </tbody>\n",
       "</table>\n",
       "</div>"
      ],
      "text/plain": [
       "   null_count\n",
       "0           0"
      ]
     },
     "metadata": {},
     "output_type": "display_data"
    },
    {
     "name": "stdout",
     "output_type": "stream",
     "text": [
      "\n",
      "🔍 Nulos en PK de DIRECCIONESENVIO (direccionid):\n"
     ]
    },
    {
     "data": {
      "text/html": [
       "<div>\n",
       "<style scoped>\n",
       "    .dataframe tbody tr th:only-of-type {\n",
       "        vertical-align: middle;\n",
       "    }\n",
       "\n",
       "    .dataframe tbody tr th {\n",
       "        vertical-align: top;\n",
       "    }\n",
       "\n",
       "    .dataframe thead th {\n",
       "        text-align: right;\n",
       "    }\n",
       "</style>\n",
       "<table border=\"1\" class=\"dataframe\">\n",
       "  <thead>\n",
       "    <tr style=\"text-align: right;\">\n",
       "      <th></th>\n",
       "      <th>null_count</th>\n",
       "    </tr>\n",
       "  </thead>\n",
       "  <tbody>\n",
       "    <tr>\n",
       "      <th>0</th>\n",
       "      <td>0</td>\n",
       "    </tr>\n",
       "  </tbody>\n",
       "</table>\n",
       "</div>"
      ],
      "text/plain": [
       "   null_count\n",
       "0           0"
      ]
     },
     "metadata": {},
     "output_type": "display_data"
    },
    {
     "name": "stdout",
     "output_type": "stream",
     "text": [
      "\n",
      "🔍 Nulos en PK de CARRITO (carritoid):\n"
     ]
    },
    {
     "data": {
      "text/html": [
       "<div>\n",
       "<style scoped>\n",
       "    .dataframe tbody tr th:only-of-type {\n",
       "        vertical-align: middle;\n",
       "    }\n",
       "\n",
       "    .dataframe tbody tr th {\n",
       "        vertical-align: top;\n",
       "    }\n",
       "\n",
       "    .dataframe thead th {\n",
       "        text-align: right;\n",
       "    }\n",
       "</style>\n",
       "<table border=\"1\" class=\"dataframe\">\n",
       "  <thead>\n",
       "    <tr style=\"text-align: right;\">\n",
       "      <th></th>\n",
       "      <th>null_count</th>\n",
       "    </tr>\n",
       "  </thead>\n",
       "  <tbody>\n",
       "    <tr>\n",
       "      <th>0</th>\n",
       "      <td>0</td>\n",
       "    </tr>\n",
       "  </tbody>\n",
       "</table>\n",
       "</div>"
      ],
      "text/plain": [
       "   null_count\n",
       "0           0"
      ]
     },
     "metadata": {},
     "output_type": "display_data"
    },
    {
     "name": "stdout",
     "output_type": "stream",
     "text": [
      "\n",
      "🔍 Nulos en PK de METODOSPAGO (metodopagoid):\n"
     ]
    },
    {
     "data": {
      "text/html": [
       "<div>\n",
       "<style scoped>\n",
       "    .dataframe tbody tr th:only-of-type {\n",
       "        vertical-align: middle;\n",
       "    }\n",
       "\n",
       "    .dataframe tbody tr th {\n",
       "        vertical-align: top;\n",
       "    }\n",
       "\n",
       "    .dataframe thead th {\n",
       "        text-align: right;\n",
       "    }\n",
       "</style>\n",
       "<table border=\"1\" class=\"dataframe\">\n",
       "  <thead>\n",
       "    <tr style=\"text-align: right;\">\n",
       "      <th></th>\n",
       "      <th>null_count</th>\n",
       "    </tr>\n",
       "  </thead>\n",
       "  <tbody>\n",
       "    <tr>\n",
       "      <th>0</th>\n",
       "      <td>0</td>\n",
       "    </tr>\n",
       "  </tbody>\n",
       "</table>\n",
       "</div>"
      ],
      "text/plain": [
       "   null_count\n",
       "0           0"
      ]
     },
     "metadata": {},
     "output_type": "display_data"
    },
    {
     "name": "stdout",
     "output_type": "stream",
     "text": [
      "\n",
      "🔍 Nulos en PK de ORDENESMETODOSPAGO (ordenmetodoid):\n"
     ]
    },
    {
     "data": {
      "text/html": [
       "<div>\n",
       "<style scoped>\n",
       "    .dataframe tbody tr th:only-of-type {\n",
       "        vertical-align: middle;\n",
       "    }\n",
       "\n",
       "    .dataframe tbody tr th {\n",
       "        vertical-align: top;\n",
       "    }\n",
       "\n",
       "    .dataframe thead th {\n",
       "        text-align: right;\n",
       "    }\n",
       "</style>\n",
       "<table border=\"1\" class=\"dataframe\">\n",
       "  <thead>\n",
       "    <tr style=\"text-align: right;\">\n",
       "      <th></th>\n",
       "      <th>null_count</th>\n",
       "    </tr>\n",
       "  </thead>\n",
       "  <tbody>\n",
       "    <tr>\n",
       "      <th>0</th>\n",
       "      <td>0</td>\n",
       "    </tr>\n",
       "  </tbody>\n",
       "</table>\n",
       "</div>"
      ],
      "text/plain": [
       "   null_count\n",
       "0           0"
      ]
     },
     "metadata": {},
     "output_type": "display_data"
    },
    {
     "name": "stdout",
     "output_type": "stream",
     "text": [
      "\n",
      "🔍 Nulos en PK de RESEÑASPRODUCTOS (reseñaid):\n"
     ]
    },
    {
     "data": {
      "text/html": [
       "<div>\n",
       "<style scoped>\n",
       "    .dataframe tbody tr th:only-of-type {\n",
       "        vertical-align: middle;\n",
       "    }\n",
       "\n",
       "    .dataframe tbody tr th {\n",
       "        vertical-align: top;\n",
       "    }\n",
       "\n",
       "    .dataframe thead th {\n",
       "        text-align: right;\n",
       "    }\n",
       "</style>\n",
       "<table border=\"1\" class=\"dataframe\">\n",
       "  <thead>\n",
       "    <tr style=\"text-align: right;\">\n",
       "      <th></th>\n",
       "      <th>null_count</th>\n",
       "    </tr>\n",
       "  </thead>\n",
       "  <tbody>\n",
       "    <tr>\n",
       "      <th>0</th>\n",
       "      <td>0</td>\n",
       "    </tr>\n",
       "  </tbody>\n",
       "</table>\n",
       "</div>"
      ],
      "text/plain": [
       "   null_count\n",
       "0           0"
      ]
     },
     "metadata": {},
     "output_type": "display_data"
    },
    {
     "name": "stdout",
     "output_type": "stream",
     "text": [
      "\n",
      "🔍 Nulos en PK de HISTORIALPAGOS (pagoid):\n"
     ]
    },
    {
     "data": {
      "text/html": [
       "<div>\n",
       "<style scoped>\n",
       "    .dataframe tbody tr th:only-of-type {\n",
       "        vertical-align: middle;\n",
       "    }\n",
       "\n",
       "    .dataframe tbody tr th {\n",
       "        vertical-align: top;\n",
       "    }\n",
       "\n",
       "    .dataframe thead th {\n",
       "        text-align: right;\n",
       "    }\n",
       "</style>\n",
       "<table border=\"1\" class=\"dataframe\">\n",
       "  <thead>\n",
       "    <tr style=\"text-align: right;\">\n",
       "      <th></th>\n",
       "      <th>null_count</th>\n",
       "    </tr>\n",
       "  </thead>\n",
       "  <tbody>\n",
       "    <tr>\n",
       "      <th>0</th>\n",
       "      <td>0</td>\n",
       "    </tr>\n",
       "  </tbody>\n",
       "</table>\n",
       "</div>"
      ],
      "text/plain": [
       "   null_count\n",
       "0           0"
      ]
     },
     "metadata": {},
     "output_type": "display_data"
    }
   ],
   "source": [
    "# Diccionario con claves primarias de cada tabla\n",
    "pk_por_tabla = {\n",
    "    \"usuarios\": \"usuarioid\",\n",
    "    \"categorias\": \"categoriaid\",\n",
    "    \"productos\": \"productoid\",\n",
    "    \"ordenes\": \"ordenid\",\n",
    "    \"detalleordenes\": \"detalleid\",\n",
    "    \"direccionesenvio\": \"direccionid\",\n",
    "    \"carrito\": \"carritoid\",\n",
    "    \"metodospago\": \"metodopagoid\",\n",
    "    \"ordenesmetodospago\": \"ordenmetodoid\",\n",
    "    \"reseñasproductos\": \"reseñaid\",\n",
    "    \"historialpagos\": \"pagoid\"\n",
    "}\n",
    "\n",
    "# Función para chequear nulos en la clave primaria\n",
    "def check_pk_nulls(table, pk_column):\n",
    "    query = f\"\"\"\n",
    "    SELECT COUNT(*) AS null_count\n",
    "    FROM {table}\n",
    "    WHERE \"{pk_column}\" IS NULL;\n",
    "    \"\"\"\n",
    "    return pd.read_sql(query, engine)\n",
    "\n",
    "# Verificación para todas las tablas\n",
    "for tabla, pk_col in pk_por_tabla.items():\n",
    "    print(f\"\\n🔍 Nulos en PK de {tabla.upper()} ({pk_col}):\")\n",
    "    try:\n",
    "        result = check_pk_nulls(tabla, pk_col)\n",
    "        display(result)\n",
    "    except Exception as e:\n",
    "        print(f\"⚠️ Error en tabla {tabla}: {e}\")\n",
    "\n",
    "\n"
   ]
  },
  {
   "cell_type": "markdown",
   "id": "899f5f13",
   "metadata": {},
   "source": [
    "### 4. Análisis de Integridad: Duplicados en Claves Primarias (PK)\n",
    "\n",
    "El siguiente script revisa cada tabla para encontrar valores de claves primarias que se repitan más de una vez. Si una tabla devuelve un resultado vacío, significa que su integridad de unicidad es correcta."
   ]
  },
  {
   "cell_type": "code",
   "execution_count": 3,
   "id": "d43a3fbe",
   "metadata": {},
   "outputs": [
    {
     "name": "stdout",
     "output_type": "stream",
     "text": [
      "\n",
      "📌 Duplicados en PK de USUARIOS (usuarioid):\n",
      "✅ Sin duplicados encontrados.\n",
      "\n",
      "📌 Duplicados en PK de CATEGORIAS (categoriaid):\n",
      "✅ Sin duplicados encontrados.\n",
      "\n",
      "📌 Duplicados en PK de PRODUCTOS (productoid):\n",
      "✅ Sin duplicados encontrados.\n",
      "\n",
      "📌 Duplicados en PK de ORDENES (ordenid):\n",
      "✅ Sin duplicados encontrados.\n",
      "\n",
      "📌 Duplicados en PK de DETALLEORDENES (detalleid):\n",
      "✅ Sin duplicados encontrados.\n",
      "\n",
      "📌 Duplicados en PK de DIRECCIONESENVIO (direccionid):\n",
      "✅ Sin duplicados encontrados.\n",
      "\n",
      "📌 Duplicados en PK de CARRITO (carritoid):\n",
      "✅ Sin duplicados encontrados.\n",
      "\n",
      "📌 Duplicados en PK de METODOSPAGO (metodopagoid):\n",
      "✅ Sin duplicados encontrados.\n",
      "\n",
      "📌 Duplicados en PK de ORDENESMETODOSPAGO (ordenmetodoid):\n",
      "✅ Sin duplicados encontrados.\n",
      "\n",
      "📌 Duplicados en PK de RESEÑASPRODUCTOS (reseñaid):\n",
      "✅ Sin duplicados encontrados.\n",
      "\n",
      "📌 Duplicados en PK de HISTORIALPAGOS (pagoid):\n",
      "✅ Sin duplicados encontrados.\n"
     ]
    }
   ],
   "source": [
    "# Diccionario con claves primarias de cada tabla\n",
    "pk_por_tabla = {\n",
    "    \"usuarios\": \"usuarioid\",\n",
    "    \"categorias\": \"categoriaid\",\n",
    "    \"productos\": \"productoid\",\n",
    "    \"ordenes\": \"ordenid\",\n",
    "    \"detalleordenes\": \"detalleid\",\n",
    "    \"direccionesenvio\": \"direccionid\",\n",
    "    \"carrito\": \"carritoid\",\n",
    "    \"metodospago\": \"metodopagoid\",\n",
    "    \"ordenesmetodospago\": \"ordenmetodoid\",\n",
    "    \"reseñasproductos\": \"reseñaid\",\n",
    "    \"historialpagos\": \"pagoid\"\n",
    "}\n",
    "\n",
    "# Revisión de duplicados en la PK\n",
    "for tabla, pk_col in pk_por_tabla.items():\n",
    "    print(f\"\\n📌 Duplicados en PK de {tabla.upper()} ({pk_col}):\")\n",
    "    query = f\"\"\"\n",
    "    SELECT \"{pk_col}\", COUNT(*) AS cantidad\n",
    "    FROM {tabla}\n",
    "    GROUP BY \"{pk_col}\"\n",
    "    HAVING COUNT(*) > 1\n",
    "    ORDER BY cantidad DESC;\n",
    "    \"\"\"\n",
    "    try:\n",
    "        df = pd.read_sql(query, engine)\n",
    "        if df.empty:\n",
    "            print(\"✅ Sin duplicados encontrados.\")\n",
    "        else:\n",
    "            display(df)\n",
    "    except Exception as e:\n",
    "        print(f\"⚠️ Error en tabla {tabla}: {e}\")\n"
   ]
  },
  {
   "cell_type": "markdown",
   "id": "6f7d6cd1",
   "metadata": {},
   "source": [
    "### 5. Análisis de Integridad Referencial: Claves Foráneas Huérfanas\n",
    "\n",
    "Para detectar estos casos, utilizamos `LEFT JOIN`: unimos la tabla hija con la padre y filtramos los casos donde la clave de la tabla padre es `NULL`, lo que indica una referencia rota."
   ]
  },
  {
   "cell_type": "code",
   "execution_count": 6,
   "id": "4e2f1eb7",
   "metadata": {},
   "outputs": [
    {
     "name": "stdout",
     "output_type": "stream",
     "text": [
      "✅ Sin claves huérfanas en ordenes.\n",
      "✅ Sin claves huérfanas en detalleordenes → ordenes.\n",
      "✅ Sin claves huérfanas en detalleordenes → productos.\n",
      "✅ Sin claves huérfanas en carrito → usuarios.\n",
      "✅ Sin claves huérfanas en carrito → productos.\n",
      "✅ Sin claves huérfanas en direccionesenvio → usuarios.\n",
      "✅ Sin claves huérfanas en ordenesmetodospago → ordenes.\n",
      "✅ Sin claves huérfanas en ordenesmetodospago → metodospago.\n",
      "✅ Sin claves huérfanas en reseñasproductos → usuarios.\n",
      "✅ Sin claves huérfanas en reseñasproductos → productos.\n",
      "✅ Sin claves huérfanas en historialpagos → ordenes.\n",
      "✅ Sin claves huérfanas en historialpagos → metodospago.\n"
     ]
    }
   ],
   "source": [
    "import psycopg2\n",
    "from dotenv import load_dotenv\n",
    "import os\n",
    "\n",
    "load_dotenv()\n",
    "\n",
    "conn = psycopg2.connect(\n",
    "    host=os.getenv(\"DB_HOST\"),\n",
    "    port=os.getenv(\"DB_PORT\"),\n",
    "    dbname=os.getenv(\"DB_NAME\"),\n",
    "    user=os.getenv(\"DB_USER\"),\n",
    "    password=os.getenv(\"DB_PASSWORD\")\n",
    ")\n",
    "\n",
    "def check_orphans(query, label):\n",
    "    with conn.cursor() as cur:\n",
    "        cur.execute(query)\n",
    "        rows = cur.fetchall()\n",
    "        if not rows:\n",
    "            print(f\"✅ Sin claves huérfanas en {label}.\")\n",
    "        else:\n",
    "            print(f\"⚠️ Claves huérfanas encontradas en {label}:\")\n",
    "            for row in rows:\n",
    "                print(row)\n",
    "\n",
    "# Ordenes sin usuario\n",
    "check_orphans(\"\"\"\n",
    "    SELECT o.* FROM ordenes o\n",
    "    LEFT JOIN usuarios u ON o.usuarioid = u.usuarioid\n",
    "    WHERE u.usuarioid IS NULL;\n",
    "\"\"\", \"ordenes\")\n",
    "\n",
    "# DetalleOrdenes sin orden o producto\n",
    "check_orphans(\"\"\"\n",
    "    SELECT d.* FROM detalleordenes d\n",
    "    LEFT JOIN ordenes o ON d.ordenid = o.ordenid\n",
    "    WHERE o.ordenid IS NULL;\n",
    "\"\"\", \"detalleordenes → ordenes\")\n",
    "\n",
    "check_orphans(\"\"\"\n",
    "    SELECT d.* FROM detalleordenes d\n",
    "    LEFT JOIN productos p ON d.productoid = p.productoid\n",
    "    WHERE p.productoid IS NULL;\n",
    "\"\"\", \"detalleordenes → productos\")\n",
    "\n",
    "# Carrito sin usuario o producto\n",
    "check_orphans(\"\"\"\n",
    "    SELECT c.* FROM carrito c\n",
    "    LEFT JOIN usuarios u ON c.usuarioid = u.usuarioid\n",
    "    WHERE u.usuarioid IS NULL;\n",
    "\"\"\", \"carrito → usuarios\")\n",
    "\n",
    "check_orphans(\"\"\"\n",
    "    SELECT c.* FROM carrito c\n",
    "    LEFT JOIN productos p ON c.productoid = p.productoid\n",
    "    WHERE p.productoid IS NULL;\n",
    "\"\"\", \"carrito → productos\")\n",
    "\n",
    "# Direcciones de envío sin usuario\n",
    "check_orphans(\"\"\"\n",
    "    SELECT d.* FROM direccionesenvio d\n",
    "    LEFT JOIN usuarios u ON d.usuarioid = u.usuarioid\n",
    "    WHERE u.usuarioid IS NULL;\n",
    "\"\"\", \"direccionesenvio → usuarios\")\n",
    "\n",
    "# OrdenesMetodosPago sin orden o metodo\n",
    "check_orphans(\"\"\"\n",
    "    SELECT omp.* FROM ordenesmetodospago omp\n",
    "    LEFT JOIN ordenes o ON omp.ordenid = o.ordenid\n",
    "    WHERE o.ordenid IS NULL;\n",
    "\"\"\", \"ordenesmetodospago → ordenes\")\n",
    "\n",
    "check_orphans(\"\"\"\n",
    "    SELECT omp.* FROM ordenesmetodospago omp\n",
    "    LEFT JOIN metodospago mp ON omp.metodopagoid = mp.metodopagoid\n",
    "    WHERE mp.metodopagoid IS NULL;\n",
    "\"\"\", \"ordenesmetodospago → metodospago\")\n",
    "\n",
    "# Reseñas sin usuario o producto\n",
    "check_orphans(\"\"\"\n",
    "    SELECT r.* FROM reseñasproductos r\n",
    "    LEFT JOIN usuarios u ON r.usuarioid = u.usuarioid\n",
    "    WHERE u.usuarioid IS NULL;\n",
    "\"\"\", \"reseñasproductos → usuarios\")\n",
    "\n",
    "check_orphans(\"\"\"\n",
    "    SELECT r.* FROM reseñasproductos r\n",
    "    LEFT JOIN productos p ON r.productoid = p.productoid\n",
    "    WHERE p.productoid IS NULL;\n",
    "\"\"\", \"reseñasproductos → productos\")\n",
    "\n",
    "# HistorialPagos sin orden o metodo\n",
    "check_orphans(\"\"\"\n",
    "    SELECT h.* FROM historialpagos h\n",
    "    LEFT JOIN ordenes o ON h.ordenid = o.ordenid\n",
    "    WHERE o.ordenid IS NULL;\n",
    "\"\"\", \"historialpagos → ordenes\")\n",
    "\n",
    "check_orphans(\"\"\"\n",
    "    SELECT h.* FROM historialpagos h\n",
    "    LEFT JOIN metodospago mp ON h.metodopagoid = mp.metodopagoid\n",
    "    WHERE mp.metodopagoid IS NULL;\n",
    "\"\"\", \"historialpagos → metodospago\")\n",
    "\n",
    "# Cierre conexión\n",
    "conn.close()\n"
   ]
  }
 ],
 "metadata": {
  "kernelspec": {
   "display_name": "Python 3",
   "language": "python",
   "name": "python3"
  },
  "language_info": {
   "codemirror_mode": {
    "name": "ipython",
    "version": 3
   },
   "file_extension": ".py",
   "mimetype": "text/x-python",
   "name": "python",
   "nbconvert_exporter": "python",
   "pygments_lexer": "ipython3",
   "version": "3.12.0"
  }
 },
 "nbformat": 4,
 "nbformat_minor": 5
}
